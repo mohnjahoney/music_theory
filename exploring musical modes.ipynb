{
 "cells": [
  {
   "cell_type": "markdown",
   "metadata": {},
   "source": [
    "# Exploring Musical Modes\n",
    "\n",
    "Here I explore some musical **modes**: ionian, dorian, phrygian, etc.\n",
    "\n",
    "I think about things like \"distances\" between modes.\n",
    "Also the idea of \"learning\" a mode - as notes in a mode are revealed over time.\n",
    "Mostly I think this is just fun!\n",
    "But I think there are some interesting mathematical ideas.\n",
    "And finally, it would be exciting to see how these ideas might manifest in the form of a song.\n",
    "\n",
    "TODO:\n",
    "- Create a way of listening to the results. For example, when looking at the distance matrix, clicking on an element could play each of the two modes back and forth to compare / contrast them."
   ]
  },
  {
   "cell_type": "code",
   "execution_count": 1,
   "metadata": {},
   "outputs": [],
   "source": [
    "import numpy as np\n",
    "import pandas as pd\n",
    "import matplotlib.pyplot as plt\n",
    "# import ipywidgets as widgets\n",
    "# import bqplot as bq\n",
    "# from bqplot import pyplot as plt\n",
    "\n",
    "from IPython.display import display\n",
    "import seaborn as sns\n",
    "import copy"
   ]
  },
  {
   "cell_type": "markdown",
   "metadata": {},
   "source": [
    "## Notes.\n",
    "\n",
    "The piano has keys that you can press.\n",
    "When you press one of them near the middle called \"middle C\", it makes a certain sound.\n",
    "When you press a different one, it makes a different sound.\n",
    "Each of these different sounds corresponds to a different **note**.\n",
    "The more specific name for \"middle C\" is $C_4$ - the fourth C counting from the left on the piano."
   ]
  },
  {
   "cell_type": "markdown",
   "metadata": {},
   "source": [
    "## Intervals.\n",
    "\n",
    "Intervals are distances between notes.\n",
    "For example, the distance between C and E is an interval called a \"major third\".\n",
    "The distance between G and B is also a major third, even though the notes involved are entirely different.\n",
    "\n",
    ">An interval has to do with note distances or relationships."
   ]
  },
  {
   "cell_type": "markdown",
   "metadata": {},
   "source": [
    "## Introduction to musical modes.\n",
    "\n",
    "The easiest way to do this is to think about the white notes on the piano.\n",
    "If you start at C and go up, D, E, F, G, A, B, C, you have played a C major scale.\n",
    "Also, this is the ionian mode (starting on C).\n",
    "This is the mode you use in the song \n",
    "<a href=\"https://www.youtube.com/watch?v=Qy9cj-zwbVY\" target=\"_blank\">\"Doe a deer, a female deer...\"</a>\n",
    ".\n",
    "\n",
    "If you play those very same notes, but starting on D and go up, E, F, G, A, B, C, D, it will sound different.\n",
    "It sounds different not only because it's higher in pitch, but the quality is different.\n",
    "This is a minor scale.\n",
    "In particular, this is the dorian mode.\n",
    "You can hear this mode in the song \n",
    "<a href=\"https://www.youtube.com/watch?v=-Jj4s9I-53g\" target=\"_blank\">\"Scarborough Fair\"</a>\n",
    ".\n",
    "\n",
    "We chose to start our ionian mode example on C while we started our dorian mode example on D.\n",
    "\n",
    "We could also choose to play the dorian mode starting on C instead of D.\n",
    "To do this we play C, D, E flat, F, G, A, B flat, C.\n",
    "\n",
    ">The starting note does not define the mode. A mode is a sequence of relationships between notes - a sequence of intervals.\n",
    "\n",
    "We can hear the other modes by starting on other white notes and going up (staying on white notes).\n",
    "Starting on E gives phrygian, on F gives lydian, on G gives mixolydian, on A gives aeolian, and on B gives locrian."
   ]
  },
  {
   "cell_type": "markdown",
   "metadata": {},
   "source": [
    "## Defining modes in terms of pitch relationships.\n",
    "\n",
    "Here I want to talk about steps on the piano (half-steps and whole-steps) instead of frequencies.\n",
    "\n",
    "We can understand the ionian mode as a sequence of steps.\n",
    "You start on some pitch, let's say C.\n",
    "Then you go up a whole step to D, then another whole step to E.\n",
    "Then a half step to F, then three whole steps to G, A, and B, then finally a half step to C.\n",
    "\n",
    "Let's ignore the notes and focus on the steps.\n",
    "Then the sequence that defines the ionian mode is: W, W, H, W, W, W, H.\n",
    "\n",
    "Similarly, the sequence that defines the dorian mode is: W, H, W, W, W, H, W.\n",
    "\n",
    "With a little thought you can see that the other modes can be obtained by cyclically permuting the steps that define the ionian mode.\n",
    "\n",
    "Note: It would be interesting to think about all of this in terms of frequencies too, but you might have to start thinking about different temperaments and their impacts."
   ]
  },
  {
   "cell_type": "code",
   "execution_count": 2,
   "metadata": {},
   "outputs": [],
   "source": [
    "mode_names = ['ionian', 'dorian', 'phrygian', 'lydian', 'mixolydian', 'aeolian', 'locrian']\n",
    "\n",
    "mode_df = pd.DataFrame(mode_names, columns=['name'])"
   ]
  },
  {
   "cell_type": "code",
   "execution_count": 3,
   "metadata": {},
   "outputs": [
    {
     "data": {
      "text/html": [
       "<div>\n",
       "<style scoped>\n",
       "    .dataframe tbody tr th:only-of-type {\n",
       "        vertical-align: middle;\n",
       "    }\n",
       "\n",
       "    .dataframe tbody tr th {\n",
       "        vertical-align: top;\n",
       "    }\n",
       "\n",
       "    .dataframe thead th {\n",
       "        text-align: right;\n",
       "    }\n",
       "</style>\n",
       "<table border=\"1\" class=\"dataframe\">\n",
       "  <thead>\n",
       "    <tr style=\"text-align: right;\">\n",
       "      <th></th>\n",
       "      <th>name</th>\n",
       "      <th>pattern</th>\n",
       "    </tr>\n",
       "  </thead>\n",
       "  <tbody>\n",
       "    <tr>\n",
       "      <th>0</th>\n",
       "      <td>ionian</td>\n",
       "      <td>WWHWWWH</td>\n",
       "    </tr>\n",
       "    <tr>\n",
       "      <th>1</th>\n",
       "      <td>dorian</td>\n",
       "      <td>WHWWWHW</td>\n",
       "    </tr>\n",
       "    <tr>\n",
       "      <th>2</th>\n",
       "      <td>phrygian</td>\n",
       "      <td>HWWWHWW</td>\n",
       "    </tr>\n",
       "    <tr>\n",
       "      <th>3</th>\n",
       "      <td>lydian</td>\n",
       "      <td>WWWHWWH</td>\n",
       "    </tr>\n",
       "    <tr>\n",
       "      <th>4</th>\n",
       "      <td>mixolydian</td>\n",
       "      <td>WWHWWHW</td>\n",
       "    </tr>\n",
       "    <tr>\n",
       "      <th>5</th>\n",
       "      <td>aeolian</td>\n",
       "      <td>WHWWHWW</td>\n",
       "    </tr>\n",
       "    <tr>\n",
       "      <th>6</th>\n",
       "      <td>locrian</td>\n",
       "      <td>HWWHWWW</td>\n",
       "    </tr>\n",
       "  </tbody>\n",
       "</table>\n",
       "</div>"
      ],
      "text/plain": [
       "         name  pattern\n",
       "0      ionian  WWHWWWH\n",
       "1      dorian  WHWWWHW\n",
       "2    phrygian  HWWWHWW\n",
       "3      lydian  WWWHWWH\n",
       "4  mixolydian  WWHWWHW\n",
       "5     aeolian  WHWWHWW\n",
       "6     locrian  HWWHWWW"
      ]
     },
     "execution_count": 3,
     "metadata": {},
     "output_type": "execute_result"
    }
   ],
   "source": [
    "ionian_pattern = 'WWHWWWH'\n",
    "\n",
    "def cycle_pattern(pattern, shift):\n",
    "    return pattern[shift:] + pattern[:shift]\n",
    "    \n",
    "mode_df['pattern'] = ionian_pattern\n",
    "\n",
    "mode_df['pattern'] = mode_df.apply(lambda row: cycle_pattern(row.pattern, row.name), axis=1)\n",
    "\n",
    "mode_df"
   ]
  },
  {
   "cell_type": "markdown",
   "metadata": {},
   "source": [
    "## Let's think about the distance between the modes.\n",
    "\n",
    "Many modes are similar.\n",
    "For example, C ionian is very similar to C lydian.\n",
    "The notes of C ionian are : C, D, E, F, G, A, B, C.\n",
    "The notes of C lydian are : C, D, E, F sharp, G, A, B, C.\n",
    "Only one note is different.\n",
    "The pattern representation is different in the third and fourth symbols, so the real similarity is not as clear as it could be.\n",
    "It is more intuitive to consider the \"cumulative pattern\"."
   ]
  },
  {
   "cell_type": "code",
   "execution_count": 4,
   "metadata": {},
   "outputs": [],
   "source": [
    "def pattern_to_int_pattern(pattern):\n",
    "    d = {'H':1, 'W':2}\n",
    "    # First map to integers\n",
    "    return  list(map(lambda char: d[char], pattern))\n",
    "\n",
    "def int_pattern_to_cumulative(int_pattern):\n",
    "    # This version prepends a zero.\n",
    "    # return np.append([0], np.cumsum(int_pattern))\n",
    "    # This version has no initial zero.\n",
    "    return np.cumsum(int_pattern)\n",
    "    \n",
    "mode_df['int pattern'] = mode_df['pattern'].apply(pattern_to_int_pattern)\n",
    "mode_df['cumul pattern'] = mode_df['int pattern'].apply(int_pattern_to_cumulative)"
   ]
  },
  {
   "cell_type": "markdown",
   "metadata": {},
   "source": [
    "Let's look at the cumulative patterns of ionian and dorian."
   ]
  },
  {
   "cell_type": "code",
   "execution_count": 5,
   "metadata": {},
   "outputs": [
    {
     "data": {
      "text/html": [
       "<div>\n",
       "<style scoped>\n",
       "    .dataframe tbody tr th:only-of-type {\n",
       "        vertical-align: middle;\n",
       "    }\n",
       "\n",
       "    .dataframe tbody tr th {\n",
       "        vertical-align: top;\n",
       "    }\n",
       "\n",
       "    .dataframe thead th {\n",
       "        text-align: right;\n",
       "    }\n",
       "</style>\n",
       "<table border=\"1\" class=\"dataframe\">\n",
       "  <thead>\n",
       "    <tr style=\"text-align: right;\">\n",
       "      <th></th>\n",
       "      <th>name</th>\n",
       "      <th>cumul pattern</th>\n",
       "    </tr>\n",
       "  </thead>\n",
       "  <tbody>\n",
       "    <tr>\n",
       "      <th>0</th>\n",
       "      <td>ionian</td>\n",
       "      <td>[2, 4, 5, 7, 9, 11, 12]</td>\n",
       "    </tr>\n",
       "    <tr>\n",
       "      <th>1</th>\n",
       "      <td>dorian</td>\n",
       "      <td>[2, 3, 5, 7, 9, 10, 12]</td>\n",
       "    </tr>\n",
       "  </tbody>\n",
       "</table>\n",
       "</div>"
      ],
      "text/plain": [
       "     name            cumul pattern\n",
       "0  ionian  [2, 4, 5, 7, 9, 11, 12]\n",
       "1  dorian  [2, 3, 5, 7, 9, 10, 12]"
      ]
     },
     "execution_count": 5,
     "metadata": {},
     "output_type": "execute_result"
    }
   ],
   "source": [
    "mode_df.loc[mode_df['name'].isin(['ionian', 'dorian']), ['name','cumul pattern']]\n",
    "#mode_df['cumul pattern'][mode_df['name'].isin(['ionian', 'dorian'])]\n",
    "#mode_df.query(\"name==['ionian', 'dorian']\")[['name', 'cumul pattern']]"
   ]
  },
  {
   "cell_type": "markdown",
   "metadata": {},
   "source": [
    "Here we can see that the notes of the two scales (given the same starting note) are the same except for two notes - 4 vs 3 and 11 vs 10.\n",
    "This corresponds to a major 3rd vs minor 3rd and major 7th vs dominant 7th.\n",
    "\n",
    "One measure of distance is just the number of notes that are different.\n",
    "In that sense, the distance here is 2.\n",
    "\n",
    "Let's use this notion of distance to compute and visualize the distances between each pair of modes."
   ]
  },
  {
   "cell_type": "code",
   "execution_count": 6,
   "metadata": {},
   "outputs": [],
   "source": [
    "from scipy.spatial.distance import squareform, pdist"
   ]
  },
  {
   "cell_type": "code",
   "execution_count": 7,
   "metadata": {},
   "outputs": [],
   "source": [
    "# One might call the distance metric on a set of dataframe columns.\n",
    "# Here our vector data is all within one column.\n",
    "# Unpacking a np.array of np.arrays can be done with np.stack - a handy trick.\n",
    "cpats = np.stack(mode_df['cumul pattern'].values)"
   ]
  },
  {
   "cell_type": "code",
   "execution_count": 8,
   "metadata": {},
   "outputs": [
    {
     "data": {
      "text/html": [
       "<div>\n",
       "<style scoped>\n",
       "    .dataframe tbody tr th:only-of-type {\n",
       "        vertical-align: middle;\n",
       "    }\n",
       "\n",
       "    .dataframe tbody tr th {\n",
       "        vertical-align: top;\n",
       "    }\n",
       "\n",
       "    .dataframe thead th {\n",
       "        text-align: right;\n",
       "    }\n",
       "</style>\n",
       "<table border=\"1\" class=\"dataframe\">\n",
       "  <thead>\n",
       "    <tr style=\"text-align: right;\">\n",
       "      <th>name</th>\n",
       "      <th>ionian</th>\n",
       "      <th>dorian</th>\n",
       "      <th>phrygian</th>\n",
       "      <th>lydian</th>\n",
       "      <th>mixolydian</th>\n",
       "      <th>aeolian</th>\n",
       "      <th>locrian</th>\n",
       "    </tr>\n",
       "    <tr>\n",
       "      <th>name</th>\n",
       "      <th></th>\n",
       "      <th></th>\n",
       "      <th></th>\n",
       "      <th></th>\n",
       "      <th></th>\n",
       "      <th></th>\n",
       "      <th></th>\n",
       "    </tr>\n",
       "  </thead>\n",
       "  <tbody>\n",
       "    <tr>\n",
       "      <th>ionian</th>\n",
       "      <td>0.0</td>\n",
       "      <td>2.0</td>\n",
       "      <td>4.0</td>\n",
       "      <td>1.0</td>\n",
       "      <td>1.0</td>\n",
       "      <td>3.0</td>\n",
       "      <td>5.0</td>\n",
       "    </tr>\n",
       "    <tr>\n",
       "      <th>dorian</th>\n",
       "      <td>2.0</td>\n",
       "      <td>0.0</td>\n",
       "      <td>2.0</td>\n",
       "      <td>3.0</td>\n",
       "      <td>1.0</td>\n",
       "      <td>1.0</td>\n",
       "      <td>3.0</td>\n",
       "    </tr>\n",
       "    <tr>\n",
       "      <th>phrygian</th>\n",
       "      <td>4.0</td>\n",
       "      <td>2.0</td>\n",
       "      <td>0.0</td>\n",
       "      <td>5.0</td>\n",
       "      <td>3.0</td>\n",
       "      <td>1.0</td>\n",
       "      <td>1.0</td>\n",
       "    </tr>\n",
       "    <tr>\n",
       "      <th>lydian</th>\n",
       "      <td>1.0</td>\n",
       "      <td>3.0</td>\n",
       "      <td>5.0</td>\n",
       "      <td>0.0</td>\n",
       "      <td>2.0</td>\n",
       "      <td>4.0</td>\n",
       "      <td>6.0</td>\n",
       "    </tr>\n",
       "    <tr>\n",
       "      <th>mixolydian</th>\n",
       "      <td>1.0</td>\n",
       "      <td>1.0</td>\n",
       "      <td>3.0</td>\n",
       "      <td>2.0</td>\n",
       "      <td>0.0</td>\n",
       "      <td>2.0</td>\n",
       "      <td>4.0</td>\n",
       "    </tr>\n",
       "    <tr>\n",
       "      <th>aeolian</th>\n",
       "      <td>3.0</td>\n",
       "      <td>1.0</td>\n",
       "      <td>1.0</td>\n",
       "      <td>4.0</td>\n",
       "      <td>2.0</td>\n",
       "      <td>0.0</td>\n",
       "      <td>2.0</td>\n",
       "    </tr>\n",
       "    <tr>\n",
       "      <th>locrian</th>\n",
       "      <td>5.0</td>\n",
       "      <td>3.0</td>\n",
       "      <td>1.0</td>\n",
       "      <td>6.0</td>\n",
       "      <td>4.0</td>\n",
       "      <td>2.0</td>\n",
       "      <td>0.0</td>\n",
       "    </tr>\n",
       "  </tbody>\n",
       "</table>\n",
       "</div>"
      ],
      "text/plain": [
       "name        ionian  dorian  phrygian  lydian  mixolydian  aeolian  locrian\n",
       "name                                                                      \n",
       "ionian         0.0     2.0       4.0     1.0         1.0      3.0      5.0\n",
       "dorian         2.0     0.0       2.0     3.0         1.0      1.0      3.0\n",
       "phrygian       4.0     2.0       0.0     5.0         3.0      1.0      1.0\n",
       "lydian         1.0     3.0       5.0     0.0         2.0      4.0      6.0\n",
       "mixolydian     1.0     1.0       3.0     2.0         0.0      2.0      4.0\n",
       "aeolian        3.0     1.0       1.0     4.0         2.0      0.0      2.0\n",
       "locrian        5.0     3.0       1.0     6.0         4.0      2.0      0.0"
      ]
     },
     "execution_count": 8,
     "metadata": {},
     "output_type": "execute_result"
    }
   ],
   "source": [
    "pairwise_df = pd.DataFrame(squareform(pdist(cpats, metric='cityblock')), columns=mode_df['name'], \n",
    "                           index=mode_df['name'])\n",
    "pairwise_df"
   ]
  },
  {
   "cell_type": "code",
   "execution_count": 9,
   "metadata": {},
   "outputs": [
    {
     "data": {
      "text/plain": [
       "(0.0, 7.0, 7.0, 0.0)"
      ]
     },
     "execution_count": 9,
     "metadata": {},
     "output_type": "execute_result"
    },
    {
     "data": {
      "image/png": "[encoded data removed]",
      "text/plain": [
       "<Figure size 432x432 with 2 Axes>"
      ]
     },
     "metadata": {
      "needs_background": "light"
     },
     "output_type": "display_data"
    }
   ],
   "source": [
    "plt.figure(figsize=(6, 6))\n",
    "sns.heatmap(pairwise_df, cmap='coolwarm', linewidth=1);\n",
    "plt.axis('equal')\n",
    "# TODO: Use bqplot to do something interactive - maybe listen to the modes while hovering.\n",
    "\n",
    "# bqplot\n",
    "# labels = mode_df['name'].to_list()\n",
    "\n",
    "# fig = plt.figure(layout=widgets.Layout(width='600px', height='600px'),\n",
    "#                  min_aspect_ratio=1, max_aspect_ratio=1, padding_y=0)\n",
    "\n",
    "# plt.scales(scales={'color': bq.ColorScale(scheme='RdBu', reverse=True)})\n",
    "# hm = plt.heatmap(color=pairwise_df, x=labels, y=labels, layout={'height':'300px', 'width':'300px'})\n",
    "# fig"
   ]
  },
  {
   "cell_type": "markdown",
   "metadata": {},
   "source": [
    "Let's notice a few things about this figure.\n",
    "\n",
    "All of the diagonal elements are blue.\n",
    "This is because the distance from any mode to itself is zero (this makes good sense).\n",
    "\n",
    "Another thing to notice is that there seems to be a fair amount of blue.\n",
    "That means modes tend to be closer to one another.\n",
    "\n",
    "We might also note some of the larger distances.\n",
    "For example, the greatest distance is between locrian and lydian.\n",
    "Ionian-locrian and phyrgian-lydian are also pretty far apart."
   ]
  },
  {
   "cell_type": "markdown",
   "metadata": {},
   "source": [
    "## We can also think about differences in a more detailed sense.\n",
    "\n",
    "In the previous notion of distance, we ignored the specific source of the distance.\n",
    "For example, a difference in the third note of the scale would be treated the same as a difference in the seventh.\n",
    "Let's track these differences here.\n",
    "To do that, we'll focus on one particular mode as the \"base mode\" - ionian for now.\n",
    "We'll compare each note of each mode to this base mode."
   ]
  },
  {
   "cell_type": "code",
   "execution_count": 10,
   "metadata": {},
   "outputs": [
    {
     "data": {
      "text/plain": [
       "array([[ 2,  4,  5,  7,  9, 11, 12],\n",
       "       [ 2,  3,  5,  7,  9, 10, 12],\n",
       "       [ 1,  3,  5,  7,  8, 10, 12],\n",
       "       [ 2,  4,  6,  7,  9, 11, 12],\n",
       "       [ 2,  4,  5,  7,  9, 10, 12],\n",
       "       [ 2,  3,  5,  7,  8, 10, 12],\n",
       "       [ 1,  3,  5,  6,  8, 10, 12]])"
      ]
     },
     "execution_count": 10,
     "metadata": {},
     "output_type": "execute_result"
    }
   ],
   "source": [
    "c = np.stack(mode_df['cumul pattern'].values)\n",
    "c"
   ]
  },
  {
   "cell_type": "code",
   "execution_count": 11,
   "metadata": {},
   "outputs": [
    {
     "data": {
      "text/plain": [
       "array([[1, 1, 1, 1, 1, 1, 1],\n",
       "       [1, 0, 1, 1, 1, 0, 1],\n",
       "       [0, 0, 1, 1, 0, 0, 1],\n",
       "       [1, 1, 0, 1, 1, 1, 1],\n",
       "       [1, 1, 1, 1, 1, 0, 1],\n",
       "       [1, 0, 1, 1, 0, 0, 1],\n",
       "       [0, 0, 1, 0, 0, 0, 1]])"
      ]
     },
     "execution_count": 11,
     "metadata": {},
     "output_type": "execute_result"
    }
   ],
   "source": [
    "# Compare each scale degree with this \"base mode\".\n",
    "comparison_mode_ind = 0 # Choose ionian\n",
    "\n",
    "comparison_mode = copy.copy(c[comparison_mode_ind])\n",
    "\n",
    "for mode_ind in range(c.shape[0]):\n",
    "    c[mode_ind, :] = (c[mode_ind, :] == comparison_mode)\n",
    "    \n",
    "c"
   ]
  },
  {
   "cell_type": "code",
   "execution_count": 12,
   "metadata": {},
   "outputs": [
    {
     "data": {
      "text/plain": [
       "(0.0, 7.0, 7.0, 0.0)"
      ]
     },
     "execution_count": 12,
     "metadata": {},
     "output_type": "execute_result"
    },
    {
     "data": {
      "image/png": "[encoded data removed]",
      "text/plain": [
       "<Figure size 432x432 with 2 Axes>"
      ]
     },
     "metadata": {
      "needs_background": "light"
     },
     "output_type": "display_data"
    }
   ],
   "source": [
    "c = pd.DataFrame(c, columns=[2, 3, 4, 5, 6, 7, 8], \n",
    "                           index=mode_df['name'])\n",
    "\n",
    "plt.figure(figsize=(6, 6))\n",
    "#sns.heatmap(c, linewidth=1)\n",
    "sns.heatmap(c, linewidth=1)\n",
    "plt.axis('equal')"
   ]
  },
  {
   "cell_type": "markdown",
   "metadata": {},
   "source": [
    "## How do we interpret this?\n",
    "\n",
    "In order to be comparable, we start each mode on the same note (e.g., C).\n",
    "The first degree is the same by definition, and so we don't include it.\n",
    "We do choose to include the eighth degree even though they are all the same here.\n",
    "We could imagine some other set of tones where the eighth tone does not agree.\n",
    "For example, a diminished scale would attain the upper C, but it would be the 9th note, not the eighth.\n",
    "\n",
    "Note that every scale degree of ionian agrees with (the base mode) ionian - no surprise.\n",
    "\n",
    "Dorian differs at the third degree (minor vs major) as well as the seventh (dominant vs major).\n",
    "\n",
    "Locrian is the furthest from ionian."
   ]
  },
  {
   "cell_type": "markdown",
   "metadata": {},
   "source": [
    "## Apply this method to all modes (as base modes).\n",
    "\n",
    "We just compared all modes to the base mode ionian.\n",
    "Now let's do the same thing using dorian as a base mode, then phrygian, then..."
   ]
  },
  {
   "cell_type": "code",
   "execution_count": 13,
   "metadata": {},
   "outputs": [
    {
     "data": {
      "image/png": "[encoded data removed]",
      "text/plain": [
       "<Figure size 1152x216 with 7 Axes>"
      ]
     },
     "metadata": {
      "needs_background": "light"
     },
     "output_type": "display_data"
    }
   ],
   "source": [
    "c = np.stack(mode_df['cumul pattern'].values)\n",
    "\n",
    "def get_bool_grid(c, mode_df, ind):\n",
    "    cbool = np.zeros_like(c, dtype=bool)\n",
    "    comparison_mode = copy.copy(c[ind, :])\n",
    "\n",
    "    for mode_ind in range(c.shape[0]):\n",
    "        cbool[mode_ind, :] = (c[mode_ind, :] == comparison_mode)\n",
    "\n",
    "    return pd.DataFrame(cbool, columns=[2, 3, 4, 5, 6, 7, 8], \n",
    "                               index=mode_df['name'])\n",
    "\n",
    "\n",
    "fig, axn = plt.subplots(1, 7, sharex=True, sharey=True, figsize=(16, 3))\n",
    "#cbar_ax = fig.add_axes([.91, .3, .03, .4])\n",
    "\n",
    "for i, ax in enumerate(axn.flat):\n",
    "    \n",
    "    if i < c.shape[0]:\n",
    "        df = get_bool_grid(c, mode_df, i)\n",
    "        sns.heatmap(df, ax=ax,\n",
    "                    cbar=False,\n",
    "                    #cbar=i == 0,\n",
    "                    #cbar_ax=None if i else cbar_ax, \n",
    "                   square=True)\n",
    "        ax.set_xlabel(\"\")\n",
    "        ax.set_ylabel(\"\")\n",
    "        ax.set_title(\"{} : {}\".format(mode_df['name'][i], c.shape[0]**2 - df.to_numpy().sum()))\n",
    "    else:\n",
    "        fig.delaxes(ax)"
   ]
  },
  {
   "cell_type": "markdown",
   "metadata": {},
   "source": [
    "## How do we interpret this?\n",
    "\n",
    "At the top of each plot, we list the comparison mode.\n",
    "Next to the comparison mode, we list the total number of differences (number of black squares).\n",
    "\n",
    "For example, the parent mode dorian has only 12 differences (black squares).\n",
    "This is the smallest of all the numbers.\n",
    "The highest numbers are held by lydian and locrian.\n",
    "This means that dorian is \"in the middle\" in some sense and lydian and locrian are \"near the edge\".\n",
    "\n",
    "This gives us a hint about a reasonable **geometry of modes**.\n",
    "\n",
    "Lydian and locrian are (all told) generally the farthest away.\n",
    "Dorian (and also mixolydian and phrygian) are generally the closest.\n",
    "\n",
    "A reasonable first guess it to try to arrange things in a line with lydian and locrian on the ends, dorian in the middle, and the others nearby."
   ]
  },
  {
   "cell_type": "markdown",
   "metadata": {},
   "source": [
    "## Can we make this geometry constructive?\n",
    "\n",
    "First, a digression:\n",
    "\n",
    "----------------\n",
    "### How do you turn distances into geometry anyway??\n",
    "\n",
    "Imagine you have two objects A and B and you know the distance between them (say 5 meters).\n",
    "Then you can arrange A and B in a straight line 5 meters apart, and this is a faithful representation of the distances.\n",
    "Two objects are embedded in a one-dimensional space.\n",
    "We took knowledge of distances (here there was just one) and turned this into a geometric representation - the two points A and B separated by a straight line 5 meters long - no problem.\n",
    "\n",
    "Next, imagine you have three objects A, B and C.\n",
    "Let's say the distances are A to B is 5, B to C is 5 and A to C is 6.\n",
    "There is no way to arrange A, B, and C in a straight line such that these three distances are respected.\n",
    "We must make use of the plane and arrange them in a triangle.\n",
    "These three objects are embedded in the two-dimensional plane.\n",
    "Again we took knowledge of distances (3 numbers) and turned this into a geometric representation - a triangle.\n",
    "\n",
    "However, imagine that the previous distances were instead 5, 6 and 11, then we *could* have arranged them in a straight line.\n",
    "We would not have required use of the more general two-dimensional plane.\n",
    "But this situation is a lucky one - it requires that the third distance is exactly equal to the sum of the other two.\n",
    "\n",
    "Getting a triangle from 3 distances is not hard for us to imagine, so maybe the distances and geometry seem like almost the same thing - it may be hard to even think about three points without visualizing a triangle.\n",
    "However if we continued this exploration, we would find that $N$ objects with \"random\" distances between pairs will require $N-1$ dimensions.\n",
    "Thinking in any dimension greater than 3 is pretty difficult!\n",
    "So here it really does make sense for us to first conceive of the distances (we go out with our ruler and measure pairwise distances 1000 times).\n",
    "Then we come to the computer and ask, \"How can we represent these distances in a meaningful way?\"\n",
    "\n",
    "If we have 100 points, will our object require 99 dimensions?\n",
    "Or is there some structure that allows us to use only 2?\n",
    "\n",
    "Also, what happens if, strictly speaking, these distances do not permit any dimension less than 99, however if we allow ourselves a little fudging, we can get them into 2 dimensions with only a small distortion.\n",
    "That would probably be worth it, right?\n",
    "\n",
    "Hopefully we are now understand this process a little and are motivated to make use of it.\n",
    "\n",
    "----------------\n",
    "\n",
    "Now let's return to our original distance matrix.\n",
    "There are 7 objects.\n",
    "In general this will require a 6-dimensional space.\n",
    "This is hard to visualize and maybe not that useful.\n",
    "It would be nice if we could get away with a lower dimension...\n",
    "\n",
    "Let's find out!"
   ]
  },
  {
   "cell_type": "markdown",
   "metadata": {},
   "source": [
    "## sklearn\n",
    "\n",
    "`sklearn` or scikit-learn is the go-to machine learning package in Python.\n",
    "\n",
    "We will make use of \"multi-dimensional scaling\" (MDS) to convert our pairwise-distances to a geometric arrangement.\n",
    "\n",
    "We will then use PCA to rotate this arrangement so that it is in a convenient orientation."
   ]
  },
  {
   "cell_type": "code",
   "execution_count": 202,
   "metadata": {},
   "outputs": [],
   "source": [
    "from sklearn.manifold import MDS\n",
    "from sklearn.decomposition import PCA"
   ]
  },
  {
   "cell_type": "code",
   "execution_count": 204,
   "metadata": {},
   "outputs": [],
   "source": [
    "seed = np.random.RandomState(seed=234)\n",
    "\n",
    "mds = MDS(n_components=2, max_iter=10**3, eps=1e-9, random_state=seed, dissimilarity=\"precomputed\", verbose=0)\n",
    "results = mds.fit(pairwise_df.values)\n",
    "coords = results.embedding_\n",
    "\n",
    "clf = PCA(n_components=2)\n",
    "coords = clf.fit_transform(coords)"
   ]
  },
  {
   "cell_type": "code",
   "execution_count": 205,
   "metadata": {},
   "outputs": [
    {
     "data": {
      "text/plain": [
       "(-3.2998351223679134,\n",
       " 3.2998368233340143,\n",
       " -0.027289516556660356,\n",
       " 0.03805028842441836)"
      ]
     },
     "execution_count": 205,
     "metadata": {},
     "output_type": "execute_result"
    },
    {
     "data": {
      "image/png": "[encoded data removed]",
      "text/plain": [
       "<Figure size 432x288 with 1 Axes>"
      ]
     },
     "metadata": {
      "needs_background": "light"
     },
     "output_type": "display_data"
    }
   ],
   "source": [
    "plt.scatter(coords[:, 0], coords[:, 1], marker = 'o')\n",
    "plt.axis('equal')"
   ]
  },
  {
   "cell_type": "markdown",
   "metadata": {},
   "source": [
    "# A straight line!\n",
    "\n",
    "Notice that the geometric construction is just a straight line.\n",
    "\n",
    "(btw, I agree.. that was a heck of a lot of work for a straight line..)\n",
    "\n",
    "Let's go back and look at the matrix to confirm that this straight line agrees with our constraints."
   ]
  },
  {
   "cell_type": "code",
   "execution_count": 206,
   "metadata": {},
   "outputs": [
    {
     "data": {
      "text/html": [
       "<div>\n",
       "<style scoped>\n",
       "    .dataframe tbody tr th:only-of-type {\n",
       "        vertical-align: middle;\n",
       "    }\n",
       "\n",
       "    .dataframe tbody tr th {\n",
       "        vertical-align: top;\n",
       "    }\n",
       "\n",
       "    .dataframe thead th {\n",
       "        text-align: right;\n",
       "    }\n",
       "</style>\n",
       "<table border=\"1\" class=\"dataframe\">\n",
       "  <thead>\n",
       "    <tr style=\"text-align: right;\">\n",
       "      <th>name</th>\n",
       "      <th>ionian</th>\n",
       "      <th>dorian</th>\n",
       "      <th>phrygian</th>\n",
       "      <th>lydian</th>\n",
       "      <th>mixolydian</th>\n",
       "      <th>aeolian</th>\n",
       "      <th>locrian</th>\n",
       "    </tr>\n",
       "    <tr>\n",
       "      <th>name</th>\n",
       "      <th></th>\n",
       "      <th></th>\n",
       "      <th></th>\n",
       "      <th></th>\n",
       "      <th></th>\n",
       "      <th></th>\n",
       "      <th></th>\n",
       "    </tr>\n",
       "  </thead>\n",
       "  <tbody>\n",
       "    <tr>\n",
       "      <th>ionian</th>\n",
       "      <td>0.0</td>\n",
       "      <td>2.0</td>\n",
       "      <td>4.0</td>\n",
       "      <td>1.0</td>\n",
       "      <td>1.0</td>\n",
       "      <td>3.0</td>\n",
       "      <td>5.0</td>\n",
       "    </tr>\n",
       "    <tr>\n",
       "      <th>dorian</th>\n",
       "      <td>2.0</td>\n",
       "      <td>0.0</td>\n",
       "      <td>2.0</td>\n",
       "      <td>3.0</td>\n",
       "      <td>1.0</td>\n",
       "      <td>1.0</td>\n",
       "      <td>3.0</td>\n",
       "    </tr>\n",
       "    <tr>\n",
       "      <th>phrygian</th>\n",
       "      <td>4.0</td>\n",
       "      <td>2.0</td>\n",
       "      <td>0.0</td>\n",
       "      <td>5.0</td>\n",
       "      <td>3.0</td>\n",
       "      <td>1.0</td>\n",
       "      <td>1.0</td>\n",
       "    </tr>\n",
       "    <tr>\n",
       "      <th>lydian</th>\n",
       "      <td>1.0</td>\n",
       "      <td>3.0</td>\n",
       "      <td>5.0</td>\n",
       "      <td>0.0</td>\n",
       "      <td>2.0</td>\n",
       "      <td>4.0</td>\n",
       "      <td>6.0</td>\n",
       "    </tr>\n",
       "    <tr>\n",
       "      <th>mixolydian</th>\n",
       "      <td>1.0</td>\n",
       "      <td>1.0</td>\n",
       "      <td>3.0</td>\n",
       "      <td>2.0</td>\n",
       "      <td>0.0</td>\n",
       "      <td>2.0</td>\n",
       "      <td>4.0</td>\n",
       "    </tr>\n",
       "    <tr>\n",
       "      <th>aeolian</th>\n",
       "      <td>3.0</td>\n",
       "      <td>1.0</td>\n",
       "      <td>1.0</td>\n",
       "      <td>4.0</td>\n",
       "      <td>2.0</td>\n",
       "      <td>0.0</td>\n",
       "      <td>2.0</td>\n",
       "    </tr>\n",
       "    <tr>\n",
       "      <th>locrian</th>\n",
       "      <td>5.0</td>\n",
       "      <td>3.0</td>\n",
       "      <td>1.0</td>\n",
       "      <td>6.0</td>\n",
       "      <td>4.0</td>\n",
       "      <td>2.0</td>\n",
       "      <td>0.0</td>\n",
       "    </tr>\n",
       "  </tbody>\n",
       "</table>\n",
       "</div>"
      ],
      "text/plain": [
       "name        ionian  dorian  phrygian  lydian  mixolydian  aeolian  locrian\n",
       "name                                                                      \n",
       "ionian         0.0     2.0       4.0     1.0         1.0      3.0      5.0\n",
       "dorian         2.0     0.0       2.0     3.0         1.0      1.0      3.0\n",
       "phrygian       4.0     2.0       0.0     5.0         3.0      1.0      1.0\n",
       "lydian         1.0     3.0       5.0     0.0         2.0      4.0      6.0\n",
       "mixolydian     1.0     1.0       3.0     2.0         0.0      2.0      4.0\n",
       "aeolian        3.0     1.0       1.0     4.0         2.0      0.0      2.0\n",
       "locrian        5.0     3.0       1.0     6.0         4.0      2.0      0.0"
      ]
     },
     "execution_count": 206,
     "metadata": {},
     "output_type": "execute_result"
    }
   ],
   "source": [
    "pairwise_df"
   ]
  },
  {
   "cell_type": "markdown",
   "metadata": {},
   "source": [
    "If we make assign the modes to the linear geometry in the following arrangement:\n",
    "\n",
    "TODO: Figure out how to make this assignment automatically.\n",
    "\n",
    "(lydian --- ionian --- mixolydian --- dorian --- aeolian --- phrygian --- locrian)\n",
    "\n",
    "where each \"---\" is one unit of distance, then we see that all of the pairwise distance requirements are met.\n",
    "\n",
    "For example, from the table, we see that the distance from dorian to lydian should be 3 units.\n",
    "Looking at our linear arrangement, we see that in fact dorian and lydian are 3 units apart."
   ]
  },
  {
   "cell_type": "markdown",
   "metadata": {},
   "source": [
    "# Did we reinvent the wheel?\n",
    "\n",
    "If you are familiar with music theory, you might notice that these modes correspond to the cycle of fifths.\n",
    "Within the context of the white notes, lydian starts on F, ionian on C, mixolydian on G, ... and on up by fifths.\n",
    "\n",
    "I propose that we did not.\n",
    "I propose that this coincidence between the geometry of the modes and the cycle of fifths is somewhat of an accident.\n",
    "\n",
    "I'd like to do some investigating and see if we can come up with an argument either way."
   ]
  },
  {
   "cell_type": "code",
   "execution_count": null,
   "metadata": {},
   "outputs": [],
   "source": []
  }
 ],
 "metadata": {
  "kernelspec": {
   "display_name": "Python 3",
   "language": "python",
   "name": "python3"
  },
  "language_info": {
   "codemirror_mode": {
    "name": "ipython",
    "version": 3
   },
   "file_extension": ".py",
   "mimetype": "text/x-python",
   "name": "python",
   "nbconvert_exporter": "python",
   "pygments_lexer": "ipython3",
   "version": "3.8.5"
  }
 },
 "nbformat": 4,
 "nbformat_minor": 4
}
